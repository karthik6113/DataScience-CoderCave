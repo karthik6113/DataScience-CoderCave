{
  "metadata": {
    "application/vnd.databricks.v1+notebook": {
      "dashboards": [],
      "language": "python",
      "notebookMetadata": {
        "pythonIndentUnit": 4
      },
      "notebookName": "Nielsen_Store_Transaction",
      "widgets": {}
    },
    "language_info": {
      "name": "python",
      "version": "3.10.13",
      "mimetype": "text/x-python",
      "codemirror_mode": {
        "name": "ipython",
        "version": 3
      },
      "pygments_lexer": "ipython3",
      "nbconvert_exporter": "python",
      "file_extension": ".py"
    },
    "kernelspec": {
      "name": "python3",
      "display_name": "Python 3",
      "language": "python"
    },
    "kaggle": {
      "accelerator": "none",
      "dataSources": [
        {
          "sourceId": 1157639,
          "sourceType": "datasetVersion",
          "datasetId": 654856
        },
        {
          "sourceId": 1019220,
          "sourceType": "datasetVersion",
          "datasetId": 560533
        }
      ],
      "dockerImageVersionId": 30673,
      "isInternetEnabled": false,
      "language": "python",
      "sourceType": "notebook",
      "isGpuEnabled": false
    },
    "colab": {
      "name": "EDA:Customer Behavior Analysis",
      "provenance": []
    }
  },
  "nbformat_minor": 0,
  "nbformat": 4,
  "cells": [
    {
      "source": [
        "\n",
        "# IMPORTANT: RUN THIS CELL IN ORDER TO IMPORT YOUR KAGGLE DATA SOURCES\n",
        "# TO THE CORRECT LOCATION (/kaggle/input) IN YOUR NOTEBOOK,\n",
        "# THEN FEEL FREE TO DELETE THIS CELL.\n",
        "# NOTE: THIS NOTEBOOK ENVIRONMENT DIFFERS FROM KAGGLE'S PYTHON\n",
        "# ENVIRONMENT SO THERE MAY BE MISSING LIBRARIES USED BY YOUR\n",
        "# NOTEBOOK.\n",
        "\n",
        "import os\n",
        "import sys\n",
        "from tempfile import NamedTemporaryFile\n",
        "from urllib.request import urlopen\n",
        "from urllib.parse import unquote, urlparse\n",
        "from urllib.error import HTTPError\n",
        "from zipfile import ZipFile\n",
        "import tarfile\n",
        "import shutil\n",
        "\n",
        "CHUNK_SIZE = 40960\n",
        "DATA_SOURCE_MAPPING = 'store-transaction-data:https%3A%2F%2Fstorage.googleapis.com%2Fkaggle-data-sets%2F560533%2F1019220%2Fbundle%2Farchive.zip%3FX-Goog-Algorithm%3DGOOG4-RSA-SHA256%26X-Goog-Credential%3Dgcp-kaggle-com%2540kaggle-161607.iam.gserviceaccount.com%252F20240414%252Fauto%252Fstorage%252Fgoog4_request%26X-Goog-Date%3D20240414T095556Z%26X-Goog-Expires%3D259200%26X-Goog-SignedHeaders%3Dhost%26X-Goog-Signature%3Dd1088a9df81d6d90a3603a2dfbd1ae1c53820fcb3b8ff2d35c5a363664b581585008904b6113ffe5164c4c99d5ea5044bf34963d9f2ad22affa17aa20ab77e18aa6ad6f112a738aa43e06a9ed4f00d149d81864aeb8e776ac87cb25ee45013575fae659c400549c105c81cd4e9e06c872430620d678422b791e9ab51be41092039f0de4efdffb997e664afab318d6255149d446e0f7cc0f965097e344d7a0afae79df7f4b68216484f206f1e858028133e96907ba5684a38ca49bd9dbfc8d0f87ee973aa3de7a0e12232104dd4ae311f198a84d4c3a319cd1d61490ab14bd829d22c7d2a02b5e908bf0dd66353b5f002a3a3ef4af5f3cfb33cbbdf820694cbd1,nielsenhackathon:https%3A%2F%2Fstorage.googleapis.com%2Fkaggle-data-sets%2F654856%2F1157639%2Fbundle%2Farchive.zip%3FX-Goog-Algorithm%3DGOOG4-RSA-SHA256%26X-Goog-Credential%3Dgcp-kaggle-com%2540kaggle-161607.iam.gserviceaccount.com%252F20240414%252Fauto%252Fstorage%252Fgoog4_request%26X-Goog-Date%3D20240414T095556Z%26X-Goog-Expires%3D259200%26X-Goog-SignedHeaders%3Dhost%26X-Goog-Signature%3De72e8e60b5fb9b3133493dda65892624b5e6317ade0eeb6159455c17ad11a2829dfeeadba337bb60a9d2fd8ac28d08c9067ca77f6fc3440606661f7bb270588919819564c12572e890ef70dc97f22ded5eb1b1a76144fbdee4a0e5a3f154bc6a66330bc15ba95ac03f0081cb239ffe43e741ebb4bb23f66577729d3c12455e7875cfb3404026f862869905562f3ab60556af10b5610b17ea6fa3e2c3492278ccbc6fd6f9259f7b4e620a8255cf5e9f2f0c2d843d75926b738a0e0510c854e10d9711eae19b47faf4db85b690c4d19d69613607d7fd7822d29606e7467fcf1ce44e8cdfa58362e2589026839c6d510b70c9bc26f7b81477f4ed5f39c1c1b4ec75'\n",
        "\n",
        "KAGGLE_INPUT_PATH='/kaggle/input'\n",
        "KAGGLE_WORKING_PATH='/kaggle/working'\n",
        "KAGGLE_SYMLINK='kaggle'\n",
        "\n",
        "!umount /kaggle/input/ 2> /dev/null\n",
        "shutil.rmtree('/kaggle/input', ignore_errors=True)\n",
        "os.makedirs(KAGGLE_INPUT_PATH, 0o777, exist_ok=True)\n",
        "os.makedirs(KAGGLE_WORKING_PATH, 0o777, exist_ok=True)\n",
        "\n",
        "try:\n",
        "  os.symlink(KAGGLE_INPUT_PATH, os.path.join(\"..\", 'input'), target_is_directory=True)\n",
        "except FileExistsError:\n",
        "  pass\n",
        "try:\n",
        "  os.symlink(KAGGLE_WORKING_PATH, os.path.join(\"..\", 'working'), target_is_directory=True)\n",
        "except FileExistsError:\n",
        "  pass\n",
        "\n",
        "for data_source_mapping in DATA_SOURCE_MAPPING.split(','):\n",
        "    directory, download_url_encoded = data_source_mapping.split(':')\n",
        "    download_url = unquote(download_url_encoded)\n",
        "    filename = urlparse(download_url).path\n",
        "    destination_path = os.path.join(KAGGLE_INPUT_PATH, directory)\n",
        "    try:\n",
        "        with urlopen(download_url) as fileres, NamedTemporaryFile() as tfile:\n",
        "            total_length = fileres.headers['content-length']\n",
        "            print(f'Downloading {directory}, {total_length} bytes compressed')\n",
        "            dl = 0\n",
        "            data = fileres.read(CHUNK_SIZE)\n",
        "            while len(data) > 0:\n",
        "                dl += len(data)\n",
        "                tfile.write(data)\n",
        "                done = int(50 * dl / int(total_length))\n",
        "                sys.stdout.write(f\"\\r[{'=' * done}{' ' * (50-done)}] {dl} bytes downloaded\")\n",
        "                sys.stdout.flush()\n",
        "                data = fileres.read(CHUNK_SIZE)\n",
        "            if filename.endswith('.zip'):\n",
        "              with ZipFile(tfile) as zfile:\n",
        "                zfile.extractall(destination_path)\n",
        "            else:\n",
        "              with tarfile.open(tfile.name) as tarfile:\n",
        "                tarfile.extractall(destination_path)\n",
        "            print(f'\\nDownloaded and uncompressed: {directory}')\n",
        "    except HTTPError as e:\n",
        "        print(f'Failed to load (likely expired) {download_url} to path {destination_path}')\n",
        "        continue\n",
        "    except OSError as e:\n",
        "        print(f'Failed to load {download_url} to path {destination_path}')\n",
        "        continue\n",
        "\n",
        "print('Data source import complete.')\n"
      ],
      "metadata": {
        "id": "FNZ_gUcPNALX"
      },
      "cell_type": "code",
      "outputs": [],
      "execution_count": null
    },
    {
      "cell_type": "code",
      "source": [
        "# This Python 3 environment comes with many helpful analytics libraries installed\n",
        "# It is defined by the kaggle/python Docker image: https://github.com/kaggle/docker-python\n",
        "# For example, here's several helpful packages to load\n",
        "\n",
        "import numpy as np # linear algebra\n",
        "import pandas as pd # data processing, CSV file I/O (e.g. pd.read_csv)\n",
        "import matplotlib.pyplot as plt\n",
        "%matplotlib inline\n",
        "import seaborn as sns\n",
        "from sklearn.preprocessing import LabelEncoder\n",
        "import warnings\n",
        "\n",
        "# Input data files are available in the read-only \"../input/\" directory\n",
        "# For example, running this (by clicking run or pressing Shift+Enter) will list all files under the input directory\n",
        "\n",
        "import os\n",
        "for dirname, _, filenames in os.walk('/kaggle/input'):\n",
        "    for filename in filenames:\n",
        "        print(os.path.join(dirname, filename))\n",
        "\n",
        "# You can write up to 20GB to the current directory (/kaggle/working/) that gets preserved as output when you create a version using \"Save & Run All\"\n",
        "# You can also write temporary files to /kaggle/temp/, but they won't be saved outside of the current session"
      ],
      "metadata": {
        "application/vnd.databricks.v1+cell": {
          "cellMetadata": {
            "byteLimit": 2048000,
            "rowLimit": 10000
          },
          "inputWidgets": {},
          "nuid": "7b5a4e3f-4d3c-432a-a86f-8f7bd4ed7f57",
          "showTitle": false,
          "title": ""
        },
        "execution": {
          "iopub.status.busy": "2024-04-05T09:56:05.46756Z",
          "iopub.execute_input": "2024-04-05T09:56:05.468311Z",
          "iopub.status.idle": "2024-04-05T09:56:08.625706Z",
          "shell.execute_reply.started": "2024-04-05T09:56:05.468274Z",
          "shell.execute_reply": "2024-04-05T09:56:08.624576Z"
        },
        "trusted": true,
        "id": "XZXBtKZ7NALZ"
      },
      "execution_count": null,
      "outputs": []
    },
    {
      "cell_type": "markdown",
      "source": [
        "**Objective**\n",
        "To leverage a transactional dataset and perform a comprehensive Exploratory Data Analysis (EDA) to gain deep insights into customer behaviour. This analysis will focus on uncovering customer preferences, identifying purchasing patterns, and understanding overall customer trends. These insights will be used to generate actionable recommendations for Supermarkets to improve business, ultimately enhancing profits and better customer retention.\n",
        "\n",
        "**Scope**\n",
        "The scope of the analysis is to gain insights from Nielsen store transaction data. The dataset includes information about monthly sales, store codes, bill IDs, bill amounts, quantities, values, prices, and categorical attributes such as group, subgroup, company name, mother brand, and brand. The analysis aims to understand sales trends, customer preferences, store performance, and the relationship between different variables.\n"
      ],
      "metadata": {
        "id": "q1_LIfZfNALZ"
      }
    },
    {
      "cell_type": "code",
      "source": [
        "warnings.filterwarnings(\"ignore\", \"is_categorical_dtype\")\n",
        "warnings.filterwarnings(\"ignore\", \"use_inf_as_na\")\n",
        "warnings.filterwarnings(\"ignore\", message=\"When grouping with a length-1 list-like, you will need to pass a length-1 tuple to get_group.*\")\n",
        "warnings.simplefilter(action='ignore', category=FutureWarning)"
      ],
      "metadata": {
        "execution": {
          "iopub.status.busy": "2024-04-05T09:56:25.866024Z",
          "iopub.execute_input": "2024-04-05T09:56:25.867476Z",
          "iopub.status.idle": "2024-04-05T09:56:25.875081Z",
          "shell.execute_reply.started": "2024-04-05T09:56:25.867419Z",
          "shell.execute_reply": "2024-04-05T09:56:25.87384Z"
        },
        "trusted": true,
        "id": "q6WMVyfYNALa"
      },
      "execution_count": null,
      "outputs": []
    },
    {
      "cell_type": "code",
      "source": [
        "#data_path = \"/kaggle/input/nielsenhackathon/Hackathon_Working_Data.csv\"\n",
        "#data = pd.read_csv(data_path)"
      ],
      "metadata": {
        "execution": {
          "iopub.status.busy": "2024-04-01T14:22:35.083247Z",
          "iopub.execute_input": "2024-04-01T14:22:35.083654Z",
          "iopub.status.idle": "2024-04-01T14:22:35.169764Z",
          "shell.execute_reply.started": "2024-04-01T14:22:35.083625Z",
          "shell.execute_reply": "2024-04-01T14:22:35.168603Z"
        },
        "trusted": true,
        "id": "VgH_3r16NALa"
      },
      "execution_count": null,
      "outputs": []
    },
    {
      "cell_type": "code",
      "source": [
        "data=pd.read_csv('/kaggle/input/store-transaction-data/Hackathon_Working_Data.csv')"
      ],
      "metadata": {
        "execution": {
          "iopub.status.busy": "2024-04-05T09:56:23.354153Z",
          "iopub.execute_input": "2024-04-05T09:56:23.354778Z",
          "iopub.status.idle": "2024-04-05T09:56:23.504766Z",
          "shell.execute_reply.started": "2024-04-05T09:56:23.354738Z",
          "shell.execute_reply": "2024-04-05T09:56:23.503411Z"
        },
        "trusted": true,
        "id": "kSW8Vo61NALb"
      },
      "execution_count": null,
      "outputs": []
    },
    {
      "cell_type": "code",
      "source": [
        "data.shape"
      ],
      "metadata": {
        "application/vnd.databricks.v1+cell": {
          "cellMetadata": {
            "byteLimit": 2048000,
            "rowLimit": 10000
          },
          "inputWidgets": {},
          "nuid": "251db9a4-9868-433f-be0c-4f0a5a114f56",
          "showTitle": false,
          "title": ""
        },
        "execution": {
          "iopub.status.busy": "2024-04-05T09:56:28.306384Z",
          "iopub.execute_input": "2024-04-05T09:56:28.306889Z",
          "iopub.status.idle": "2024-04-05T09:56:28.315706Z",
          "shell.execute_reply.started": "2024-04-05T09:56:28.306836Z",
          "shell.execute_reply": "2024-04-05T09:56:28.314383Z"
        },
        "trusted": true,
        "id": "x8i3YS0BNALb"
      },
      "execution_count": null,
      "outputs": []
    },
    {
      "cell_type": "code",
      "source": [
        "data.describe()"
      ],
      "metadata": {
        "execution": {
          "iopub.status.busy": "2024-04-05T09:56:29.792791Z",
          "iopub.execute_input": "2024-04-05T09:56:29.793266Z",
          "iopub.status.idle": "2024-04-05T09:56:29.838162Z",
          "shell.execute_reply.started": "2024-04-05T09:56:29.793233Z",
          "shell.execute_reply": "2024-04-05T09:56:29.836884Z"
        },
        "trusted": true,
        "id": "cDH08SBwNALb"
      },
      "execution_count": null,
      "outputs": []
    },
    {
      "cell_type": "code",
      "source": [
        "data.info()"
      ],
      "metadata": {
        "execution": {
          "iopub.status.busy": "2024-04-05T09:56:32.257979Z",
          "iopub.execute_input": "2024-04-05T09:56:32.258742Z",
          "iopub.status.idle": "2024-04-05T09:56:32.296019Z",
          "shell.execute_reply.started": "2024-04-05T09:56:32.258697Z",
          "shell.execute_reply": "2024-04-05T09:56:32.294473Z"
        },
        "trusted": true,
        "id": "hMtMY2nLNALb"
      },
      "execution_count": null,
      "outputs": []
    },
    {
      "cell_type": "code",
      "source": [
        "data.tail(3)"
      ],
      "metadata": {
        "application/vnd.databricks.v1+cell": {
          "cellMetadata": {
            "byteLimit": 2048000,
            "rowLimit": 10000
          },
          "inputWidgets": {},
          "nuid": "434a85dd-8d8e-42fb-a53a-c379537e8b2e",
          "showTitle": false,
          "title": ""
        },
        "execution": {
          "iopub.status.busy": "2024-04-05T09:56:34.36064Z",
          "iopub.execute_input": "2024-04-05T09:56:34.361791Z",
          "iopub.status.idle": "2024-04-05T09:56:34.381542Z",
          "shell.execute_reply.started": "2024-04-05T09:56:34.361741Z",
          "shell.execute_reply": "2024-04-05T09:56:34.380194Z"
        },
        "trusted": true,
        "id": "DBHhTnCoNALb"
      },
      "execution_count": null,
      "outputs": []
    },
    {
      "cell_type": "code",
      "source": [
        "#To understand what is PRICE and Value\n",
        "specific_value = 'T375'\n",
        "filtered_data = data[data['BILL_ID'] == specific_value]\n",
        "filtered_data=filtered_data[filtered_data['BILL_AMT']==420]\n",
        "filtered_data"
      ],
      "metadata": {
        "execution": {
          "iopub.status.busy": "2024-04-05T09:56:36.518619Z",
          "iopub.execute_input": "2024-04-05T09:56:36.519385Z",
          "iopub.status.idle": "2024-04-05T09:56:36.546415Z",
          "shell.execute_reply.started": "2024-04-05T09:56:36.519346Z",
          "shell.execute_reply": "2024-04-05T09:56:36.544906Z"
        },
        "trusted": true,
        "id": "7IRIpDvANALb"
      },
      "execution_count": null,
      "outputs": []
    },
    {
      "cell_type": "markdown",
      "source": [
        "# 1. Understanding the data"
      ],
      "metadata": {
        "id": "6X2SGqUmNALc"
      }
    },
    {
      "cell_type": "markdown",
      "source": [
        "* MONTH     : Month when the transaction occurred   \n",
        "* STORECODE : A unique identifier for each store\n",
        "* DAY       : Day when the transaction occurred  \n",
        "* BILL_ID   : A unique identifier for each transaction or bill\n",
        "* BILL_AMT  : Represents total amount of the purchase\n",
        "* QTY       : Represents number of units of a product  \n",
        "* VALUE     : The total value of the item(s) purchased, calculated as quantity multiplied by price\n",
        "* PRICE     : Price of a single unit  \n",
        "* GRP       : Group or Category of the products  \n",
        "* SGRP      : Subgroup or subcategory of product groups   \n",
        "* SSGRP     : Subgroup of Subgroup of product groups\n",
        "* CMP       : Represents Company name\n",
        "* MBRD      : Represents Mother Brand\n",
        "* BRD       : Represents Brand name"
      ],
      "metadata": {
        "id": "zR4v5h3UNALc"
      }
    },
    {
      "cell_type": "markdown",
      "source": [
        "**Observation**\n",
        "There are many same BILL_ID's that are generated for many stores\n",
        "For example: BILL_ID : T375 is used in store 1,3,4,5 and 6.\n",
        "Hence, create a column which contains unique Bill_Id (helpful for sales per store analysis)"
      ],
      "metadata": {
        "id": "k2V_jTJeNALc"
      }
    },
    {
      "cell_type": "code",
      "source": [
        "len(data['GRP'].unique())"
      ],
      "metadata": {
        "execution": {
          "iopub.status.busy": "2024-04-05T09:56:39.27815Z",
          "iopub.execute_input": "2024-04-05T09:56:39.278598Z",
          "iopub.status.idle": "2024-04-05T09:56:39.28816Z",
          "shell.execute_reply.started": "2024-04-05T09:56:39.278561Z",
          "shell.execute_reply": "2024-04-05T09:56:39.286878Z"
        },
        "trusted": true,
        "id": "_fRI_nBBNALc"
      },
      "execution_count": null,
      "outputs": []
    },
    {
      "cell_type": "code",
      "source": [
        "data['UNIQUE_BILL_ID'] = data['STORECODE'] + data['BILL_ID']"
      ],
      "metadata": {
        "execution": {
          "iopub.status.busy": "2024-04-05T09:56:42.089478Z",
          "iopub.execute_input": "2024-04-05T09:56:42.089984Z",
          "iopub.status.idle": "2024-04-05T09:56:42.101886Z",
          "shell.execute_reply.started": "2024-04-05T09:56:42.089946Z",
          "shell.execute_reply": "2024-04-05T09:56:42.100734Z"
        },
        "trusted": true,
        "id": "ASf593yZNALc"
      },
      "execution_count": null,
      "outputs": []
    },
    {
      "cell_type": "code",
      "source": [
        "data.head(2)"
      ],
      "metadata": {
        "execution": {
          "iopub.status.busy": "2024-04-05T09:56:43.875534Z",
          "iopub.execute_input": "2024-04-05T09:56:43.87634Z",
          "iopub.status.idle": "2024-04-05T09:56:43.895056Z",
          "shell.execute_reply.started": "2024-04-05T09:56:43.876294Z",
          "shell.execute_reply": "2024-04-05T09:56:43.893901Z"
        },
        "trusted": true,
        "id": "3vuvwTJiNALc"
      },
      "execution_count": null,
      "outputs": []
    },
    {
      "cell_type": "code",
      "source": [
        "sales_revenue=data.groupby('UNIQUE_BILL_ID')['VALUE'].sum().reset_index()\n",
        "sales_revenue.head()"
      ],
      "metadata": {
        "execution": {
          "iopub.status.busy": "2024-04-05T09:56:45.375415Z",
          "iopub.execute_input": "2024-04-05T09:56:45.375871Z",
          "iopub.status.idle": "2024-04-05T09:56:45.406202Z",
          "shell.execute_reply.started": "2024-04-05T09:56:45.375809Z",
          "shell.execute_reply": "2024-04-05T09:56:45.404965Z"
        },
        "trusted": true,
        "id": "VizmnX49NALc"
      },
      "execution_count": null,
      "outputs": []
    },
    {
      "cell_type": "code",
      "source": [
        "specific_value = 'N10T1048'\n",
        "filtered_data = data[data['UNIQUE_BILL_ID'] == specific_value]\n",
        "filtered_data"
      ],
      "metadata": {
        "execution": {
          "iopub.status.busy": "2024-04-05T09:56:46.994948Z",
          "iopub.execute_input": "2024-04-05T09:56:46.995417Z",
          "iopub.status.idle": "2024-04-05T09:56:47.020574Z",
          "shell.execute_reply.started": "2024-04-05T09:56:46.99538Z",
          "shell.execute_reply": "2024-04-05T09:56:47.019583Z"
        },
        "trusted": true,
        "id": "P_liP0V5NALc"
      },
      "execution_count": null,
      "outputs": []
    },
    {
      "cell_type": "markdown",
      "source": [
        "**Observation**: Use of Bill_AMT to compute sales revenue will produce false results because group by UNIQUE_BILL_ID or STORECODE will add the BILL_AMT if more than one item is purchased. Therefore, VALUE is the correct column to get actual revenue by the stores."
      ],
      "metadata": {
        "id": "4UTUFSIpNALd"
      }
    },
    {
      "cell_type": "markdown",
      "source": [
        " # 2. Preparing Data for EDA"
      ],
      "metadata": {
        "id": "QoYzIzUgNALd"
      }
    },
    {
      "cell_type": "markdown",
      "source": [
        "**Data preprocessing**\n",
        "1. Missing Values\n",
        "2. Duplicate Records\n",
        "3. Data Encoding\n",
        "4. Numerical Variables\n",
        "5. Categorical Variables\n",
        "6. Distribuiton of Numerical values\n",
        "7. Univariate Analysis (Numerical & Categorical)\n",
        "8. Correlation Analysis (Numerical & Categorical)\n"
      ],
      "metadata": {
        "id": "tDQY91tANALd"
      }
    },
    {
      "cell_type": "markdown",
      "source": [
        "**1. Missing Values**"
      ],
      "metadata": {
        "application/vnd.databricks.v1+cell": {
          "cellMetadata": {
            "byteLimit": 2048000,
            "rowLimit": 10000
          },
          "inputWidgets": {},
          "nuid": "31685828-bd1f-4606-9515-4ee137e9b6b3",
          "showTitle": false,
          "title": ""
        },
        "id": "P4dbkAn-NALd"
      }
    },
    {
      "cell_type": "code",
      "source": [
        "#check null values\n",
        "dataset= data.copy()\n",
        "dataset.isnull().sum()"
      ],
      "metadata": {
        "application/vnd.databricks.v1+cell": {
          "cellMetadata": {
            "byteLimit": 2048000,
            "rowLimit": 10000
          },
          "inputWidgets": {},
          "nuid": "cd1751c7-bcb2-4f04-8c19-26b29c1cb792",
          "showTitle": false,
          "title": ""
        },
        "execution": {
          "iopub.status.busy": "2024-04-05T09:56:49.9935Z",
          "iopub.execute_input": "2024-04-05T09:56:49.993944Z",
          "iopub.status.idle": "2024-04-05T09:56:50.034044Z",
          "shell.execute_reply.started": "2024-04-05T09:56:49.993913Z",
          "shell.execute_reply": "2024-04-05T09:56:50.032914Z"
        },
        "trusted": true,
        "id": "Gt_syCYyNALd"
      },
      "execution_count": null,
      "outputs": []
    },
    {
      "cell_type": "code",
      "source": [
        "#To check if there are any missing values\n",
        "is_any_missing_data=dataset.isna().any().any()\n",
        "is_any_missing_data"
      ],
      "metadata": {
        "execution": {
          "iopub.status.busy": "2024-04-05T09:56:53.651404Z",
          "iopub.execute_input": "2024-04-05T09:56:53.651852Z",
          "iopub.status.idle": "2024-04-05T09:56:53.67498Z",
          "shell.execute_reply.started": "2024-04-05T09:56:53.651797Z",
          "shell.execute_reply": "2024-04-05T09:56:53.673615Z"
        },
        "trusted": true,
        "id": "lTS4ioNENALd"
      },
      "execution_count": null,
      "outputs": []
    },
    {
      "cell_type": "markdown",
      "source": [
        "There are no missing values"
      ],
      "metadata": {
        "id": "oRKMg9MHNALd"
      }
    },
    {
      "cell_type": "markdown",
      "source": [
        "**2. Duplicate Records**"
      ],
      "metadata": {
        "id": "axHFBPS9NALd"
      }
    },
    {
      "cell_type": "code",
      "source": [
        "dataset.duplicated().sum()\n",
        "#Fetch all duplicate values\n",
        "#dr=dataset[dataset.duplicated(keep='last')]"
      ],
      "metadata": {
        "execution": {
          "iopub.status.busy": "2024-04-05T09:56:55.605254Z",
          "iopub.execute_input": "2024-04-05T09:56:55.60567Z",
          "iopub.status.idle": "2024-04-05T09:56:55.647641Z",
          "shell.execute_reply.started": "2024-04-05T09:56:55.60564Z",
          "shell.execute_reply": "2024-04-05T09:56:55.646535Z"
        },
        "trusted": true,
        "id": "J7pRuPOQNALd"
      },
      "execution_count": null,
      "outputs": []
    },
    {
      "cell_type": "code",
      "source": [
        "#Remove Duplicate Records\n",
        "dataset.drop_duplicates(inplace=True)\n",
        "dataset.duplicated().sum()"
      ],
      "metadata": {
        "execution": {
          "iopub.status.busy": "2024-04-05T09:56:57.375927Z",
          "iopub.execute_input": "2024-04-05T09:56:57.376378Z",
          "iopub.status.idle": "2024-04-05T09:56:57.45262Z",
          "shell.execute_reply.started": "2024-04-05T09:56:57.376338Z",
          "shell.execute_reply": "2024-04-05T09:56:57.451337Z"
        },
        "trusted": true,
        "id": "jJbJqm-PNALd"
      },
      "execution_count": null,
      "outputs": []
    },
    {
      "cell_type": "code",
      "source": [
        "dataset.dtypes"
      ],
      "metadata": {
        "execution": {
          "iopub.status.busy": "2024-04-05T09:56:58.755689Z",
          "iopub.execute_input": "2024-04-05T09:56:58.756176Z",
          "iopub.status.idle": "2024-04-05T09:56:58.766445Z",
          "shell.execute_reply.started": "2024-04-05T09:56:58.756142Z",
          "shell.execute_reply": "2024-04-05T09:56:58.765139Z"
        },
        "trusted": true,
        "id": "nzepw2O4NALd"
      },
      "execution_count": null,
      "outputs": []
    },
    {
      "cell_type": "markdown",
      "source": [
        "**3. Encoding data into numerical values**"
      ],
      "metadata": {
        "id": "h3ZFYZQfNALe"
      }
    },
    {
      "cell_type": "markdown",
      "source": [
        "There are 2 categorial columns (STORECODE,MONTH). Enocding these columns is a crucial step in preparing data for machine learning models, as most models require numerical input\n",
        "\n",
        "*1. Enocde MONTH to numberical data*"
      ],
      "metadata": {
        "id": "YYzEQ3_XNALe"
      }
    },
    {
      "cell_type": "code",
      "source": [
        "def remove_character(column):\n",
        "    return column.str.replace('M', '')\n",
        "\n",
        "dataset['MONTH'] = remove_character(dataset['MONTH'])\n",
        "dataset['MONTH'] = dataset['MONTH'].astype(int)"
      ],
      "metadata": {
        "application/vnd.databricks.v1+cell": {
          "cellMetadata": {
            "byteLimit": 2048000,
            "rowLimit": 10000
          },
          "inputWidgets": {},
          "nuid": "1604699a-6698-40cd-88af-8903668c0787",
          "showTitle": false,
          "title": ""
        },
        "execution": {
          "iopub.status.busy": "2024-04-05T09:57:01.001322Z",
          "iopub.execute_input": "2024-04-05T09:57:01.001867Z",
          "iopub.status.idle": "2024-04-05T09:57:01.024849Z",
          "shell.execute_reply.started": "2024-04-05T09:57:01.001787Z",
          "shell.execute_reply": "2024-04-05T09:57:01.023729Z"
        },
        "trusted": true,
        "id": "XMuTF6kVNALe"
      },
      "execution_count": null,
      "outputs": []
    },
    {
      "cell_type": "markdown",
      "source": [
        "*2. Another approach: Encode STORECODE using LabelEncoder*"
      ],
      "metadata": {
        "id": "nFsdioX9NALe"
      }
    },
    {
      "cell_type": "code",
      "source": [
        "label_encoder = LabelEncoder()\n",
        "dataset['STORECODE'] = label_encoder.fit_transform(dataset['STORECODE']) + 1"
      ],
      "metadata": {
        "execution": {
          "iopub.status.busy": "2024-04-05T09:57:03.280213Z",
          "iopub.execute_input": "2024-04-05T09:57:03.280659Z",
          "iopub.status.idle": "2024-04-05T09:57:03.292732Z",
          "shell.execute_reply.started": "2024-04-05T09:57:03.28063Z",
          "shell.execute_reply": "2024-04-05T09:57:03.291696Z"
        },
        "trusted": true,
        "id": "-6si5XsmNALf"
      },
      "execution_count": null,
      "outputs": []
    },
    {
      "cell_type": "markdown",
      "source": [
        "**4. Numerical features**"
      ],
      "metadata": {
        "id": "4iKNvnmsNALf"
      }
    },
    {
      "cell_type": "code",
      "source": [
        "numerical_variables = [feature for feature in dataset.columns if dataset[feature].dtypes!='O']\n",
        "print('Number of numberical variables:', len(numerical_variables))\n",
        "\n",
        "dataset[numerical_variables].sample(1)"
      ],
      "metadata": {
        "application/vnd.databricks.v1+cell": {
          "cellMetadata": {
            "byteLimit": 2048000,
            "rowLimit": 10000
          },
          "inputWidgets": {},
          "nuid": "0b147f0d-4efe-4ce1-b0c6-a34ad66c9754",
          "showTitle": false,
          "title": ""
        },
        "execution": {
          "iopub.status.busy": "2024-04-05T09:57:05.981149Z",
          "iopub.execute_input": "2024-04-05T09:57:05.98201Z",
          "iopub.status.idle": "2024-04-05T09:57:06.003608Z",
          "shell.execute_reply.started": "2024-04-05T09:57:05.981969Z",
          "shell.execute_reply": "2024-04-05T09:57:06.002178Z"
        },
        "trusted": true,
        "id": "FJ85bPqkNALf"
      },
      "execution_count": null,
      "outputs": []
    },
    {
      "cell_type": "code",
      "source": [
        "days=dataset['DAY'].unique()\n",
        "print('days ',sorted(days))"
      ],
      "metadata": {
        "application/vnd.databricks.v1+cell": {
          "cellMetadata": {
            "byteLimit": 2048000,
            "rowLimit": 10000
          },
          "inputWidgets": {},
          "nuid": "1e956d83-7f2b-4b3e-8e33-ea9636a034a2",
          "showTitle": false,
          "title": ""
        },
        "execution": {
          "iopub.status.busy": "2024-04-05T09:57:07.46878Z",
          "iopub.execute_input": "2024-04-05T09:57:07.469283Z",
          "iopub.status.idle": "2024-04-05T09:57:07.478453Z",
          "shell.execute_reply.started": "2024-04-05T09:57:07.469245Z",
          "shell.execute_reply": "2024-04-05T09:57:07.477123Z"
        },
        "trusted": true,
        "id": "zwKCdSSXNALf"
      },
      "execution_count": null,
      "outputs": []
    },
    {
      "cell_type": "code",
      "source": [
        "unique_storecodes = dataset['STORECODE'].unique()\n",
        "sorted_unique_storecodes = sorted(unique_storecodes)\n",
        "print('storecodes ',sorted_unique_storecodes)"
      ],
      "metadata": {
        "execution": {
          "iopub.status.busy": "2024-04-05T09:57:09.572655Z",
          "iopub.execute_input": "2024-04-05T09:57:09.573126Z",
          "iopub.status.idle": "2024-04-05T09:57:09.579846Z",
          "shell.execute_reply.started": "2024-04-05T09:57:09.57309Z",
          "shell.execute_reply": "2024-04-05T09:57:09.578568Z"
        },
        "trusted": true,
        "id": "Zez6KBixNALf"
      },
      "execution_count": null,
      "outputs": []
    },
    {
      "cell_type": "markdown",
      "source": [
        "**5. Categorical Variables**"
      ],
      "metadata": {
        "id": "rsRiZ8A0NALj"
      }
    },
    {
      "cell_type": "code",
      "source": [
        "categorial_variables = [feature for feature in dataset.columns if dataset[feature].dtypes=='O']\n",
        "print('Number of categorial variables:', len(categorial_variables))\n",
        "\n",
        "dataset[categorial_variables].sample(1)"
      ],
      "metadata": {
        "execution": {
          "iopub.status.busy": "2024-04-05T09:57:10.778761Z",
          "iopub.execute_input": "2024-04-05T09:57:10.779248Z",
          "iopub.status.idle": "2024-04-05T09:57:10.802854Z",
          "shell.execute_reply.started": "2024-04-05T09:57:10.779206Z",
          "shell.execute_reply": "2024-04-05T09:57:10.801534Z"
        },
        "trusted": true,
        "id": "fu_rBXEhNALk"
      },
      "execution_count": null,
      "outputs": []
    },
    {
      "cell_type": "markdown",
      "source": [
        "**6. Distribuition of numerical features**"
      ],
      "metadata": {
        "id": "dhT0tykUNALk"
      }
    },
    {
      "cell_type": "markdown",
      "source": [
        "**Distribution of continuous numerical features in your dataset**"
      ],
      "metadata": {
        "id": "qbxnHwGMNALk"
      }
    },
    {
      "cell_type": "code",
      "source": [
        "continuous_features = ['QTY', 'VALUE', 'PRICE']\n",
        "for feature in continuous_features:\n",
        "    sns.kdeplot(data[feature], shade=True, label=feature)\n",
        "plt.title('KDE Plot of Continuous Features')\n",
        "plt.xlabel('Value')\n",
        "plt.ylabel('Density')\n",
        "plt.xlim(0, 500)\n",
        "plt.legend()\n",
        "plt.show()"
      ],
      "metadata": {
        "execution": {
          "iopub.status.busy": "2024-04-05T09:57:12.390834Z",
          "iopub.execute_input": "2024-04-05T09:57:12.391301Z",
          "iopub.status.idle": "2024-04-05T09:57:13.319182Z",
          "shell.execute_reply.started": "2024-04-05T09:57:12.391264Z",
          "shell.execute_reply": "2024-04-05T09:57:13.317921Z"
        },
        "trusted": true,
        "id": "sRLfEin4NALk"
      },
      "execution_count": null,
      "outputs": []
    },
    {
      "cell_type": "markdown",
      "source": [
        "***a. Overall Sales by Month***\n",
        "\n",
        "The month M2 has produced highest revenue"
      ],
      "metadata": {
        "id": "QF8ls1RzNALk"
      }
    },
    {
      "cell_type": "code",
      "source": [
        "Overall_sales_per_month= dataset.groupby('MONTH')['VALUE'].sum()\n",
        "Overall_sales_per_month.plot(kind='line', marker='o', linestyle='-')\n",
        "plt.xlabel('Month')\n",
        "plt.ylabel('Overall Sales')\n",
        "plt.title('Overall Sales per Month')\n",
        "plt.show()"
      ],
      "metadata": {
        "execution": {
          "iopub.status.busy": "2024-04-05T09:57:15.616579Z",
          "iopub.execute_input": "2024-04-05T09:57:15.617078Z",
          "iopub.status.idle": "2024-04-05T09:57:15.938521Z",
          "shell.execute_reply.started": "2024-04-05T09:57:15.617042Z",
          "shell.execute_reply": "2024-04-05T09:57:15.937295Z"
        },
        "trusted": true,
        "id": "0XZfJT-BNALl"
      },
      "execution_count": null,
      "outputs": []
    },
    {
      "cell_type": "markdown",
      "source": [
        "***b. Overall sales by store***\n",
        "\n",
        "Store N8 has the highest revenue in all 3 months, whereas store N7 has the lowest revenue off all 10 stores. When it comes to avareage sales in each store, N3 has the highest average sales"
      ],
      "metadata": {
        "id": "JcnwUFl2NALl"
      }
    },
    {
      "cell_type": "code",
      "source": [
        "sales_per_store = dataset.groupby('STORECODE')['VALUE'].sum().reset_index()\n",
        "sales_per_store.sort_values(by='VALUE',ascending=False,inplace=True)\n",
        "sales_per_store.head(3)"
      ],
      "metadata": {
        "execution": {
          "iopub.status.busy": "2024-04-05T09:57:18.278775Z",
          "iopub.execute_input": "2024-04-05T09:57:18.280107Z",
          "iopub.status.idle": "2024-04-05T09:57:18.295245Z",
          "shell.execute_reply.started": "2024-04-05T09:57:18.280047Z",
          "shell.execute_reply": "2024-04-05T09:57:18.294372Z"
        },
        "trusted": true,
        "id": "iTcqSJXrNALl"
      },
      "execution_count": null,
      "outputs": []
    },
    {
      "cell_type": "code",
      "source": [
        "Average_sales_per_store = dataset.groupby('STORECODE')['VALUE'].mean().reset_index()\n",
        "Average_sales_per_store.sort_values(by='VALUE',ascending=False,inplace=True)\n",
        "Average_sales_per_store.head(3)"
      ],
      "metadata": {
        "execution": {
          "iopub.status.busy": "2024-04-05T09:57:21.233638Z",
          "iopub.execute_input": "2024-04-05T09:57:21.234365Z",
          "iopub.status.idle": "2024-04-05T09:57:21.251102Z",
          "shell.execute_reply.started": "2024-04-05T09:57:21.234315Z",
          "shell.execute_reply": "2024-04-05T09:57:21.250072Z"
        },
        "trusted": true,
        "id": "OzfkE0NzNALl"
      },
      "execution_count": null,
      "outputs": []
    },
    {
      "cell_type": "code",
      "source": [
        "fig, axes = plt.subplots(nrows=2, ncols=2, figsize=(12, 10))\n",
        "# Pie chart\n",
        "explode = [0.1, 0,0,0,0,0,0,0,0,0]\n",
        "axes[0, 0].pie(sales_per_store['VALUE'], labels=sales_per_store['STORECODE'],explode=explode, autopct='%1.1f%%')\n",
        "axes[0, 0].set_title('Overall Sales by Store')\n",
        "axes[0, 0].axis('equal')\n",
        "# Bar plot\n",
        "sns.barplot(x='STORECODE', y='VALUE', data=sales_per_store, palette=\"rocket\", ax=axes[0, 1])\n",
        "axes[0, 1].set_title('Overall Sales per Store')\n",
        "axes[0, 1].set_xlabel('Store Code')\n",
        "axes[0, 1].set_ylabel('Total Sales')\n",
        "# Pie chart\n",
        "axes[1, 0].pie(Average_sales_per_store['VALUE'], labels=Average_sales_per_store['STORECODE'],explode=explode, autopct='%1.1f%%')\n",
        "axes[1, 0].set_title('Average Sales by Store')\n",
        "axes[1, 0].axis('equal')\n",
        "# Bar plot\n",
        "sns.barplot(x='STORECODE', y='VALUE', data=Average_sales_per_store, palette=\"rocket\", ax=axes[1, 1])\n",
        "axes[1, 1].set_title('Average Sales per Store')\n",
        "axes[1, 1].set_xlabel('Store Code')\n",
        "axes[1, 1].set_ylabel('Total Sales')\n",
        "plt.tight_layout()\n",
        "plt.show()"
      ],
      "metadata": {
        "application/vnd.databricks.v1+cell": {
          "cellMetadata": {
            "byteLimit": 2048000,
            "rowLimit": 10000
          },
          "inputWidgets": {},
          "nuid": "116d3466-d43f-4e27-8ecd-9b4a94b5cb22",
          "showTitle": false,
          "title": ""
        },
        "execution": {
          "iopub.status.busy": "2024-04-05T09:57:22.896372Z",
          "iopub.execute_input": "2024-04-05T09:57:22.896838Z",
          "iopub.status.idle": "2024-04-05T09:57:23.891981Z",
          "shell.execute_reply.started": "2024-04-05T09:57:22.89679Z",
          "shell.execute_reply": "2024-04-05T09:57:23.890472Z"
        },
        "trusted": true,
        "id": "iA-cK-LINALl"
      },
      "execution_count": null,
      "outputs": []
    },
    {
      "cell_type": "markdown",
      "source": [
        "***c. Daily sales by store***"
      ],
      "metadata": {
        "id": "0-SJ1IOcNALm"
      }
    },
    {
      "cell_type": "code",
      "source": [
        "sales_by_month_day = dataset.groupby(['MONTH', 'DAY'])['VALUE'].sum().reset_index()"
      ],
      "metadata": {
        "application/vnd.databricks.v1+cell": {
          "cellMetadata": {
            "byteLimit": 2048000,
            "rowLimit": 10000
          },
          "inputWidgets": {},
          "nuid": "675e3d87-51d0-4743-8f53-ad2b8af4e9fc",
          "showTitle": false,
          "title": ""
        },
        "execution": {
          "iopub.status.busy": "2024-04-05T09:57:26.707678Z",
          "iopub.execute_input": "2024-04-05T09:57:26.70895Z",
          "iopub.status.idle": "2024-04-05T09:57:26.719104Z",
          "shell.execute_reply.started": "2024-04-05T09:57:26.708906Z",
          "shell.execute_reply": "2024-04-05T09:57:26.717836Z"
        },
        "trusted": true,
        "id": "nx1jurSvNALm"
      },
      "execution_count": null,
      "outputs": []
    },
    {
      "cell_type": "code",
      "source": [
        "fig, ax = plt.subplots(figsize=(12, 6))\n",
        "palettes=['mediumorchid','pink','deepskyblue']\n",
        "sns.lineplot(data=sales_by_month_day, x='DAY', y='VALUE', hue='MONTH', marker='o',markeredgecolor='black',palette=palettes, ax=ax)\n",
        "ax.set_xlabel('Day')\n",
        "ax.set_ylabel('Sales')\n",
        "ax.set_title('Sales by Day, Month-wise')\n",
        "ax.legend(title='Month')\n",
        "ax.set_xticks(range(1, max(dataset['DAY']) + 1))\n",
        "\n",
        "sales_by_month_day_m1 = sales_by_month_day[sales_by_month_day['MONTH'] == 1]\n",
        "sales_by_month_day_m2 = sales_by_month_day[sales_by_month_day['MONTH'] == 2]\n",
        "sales_by_month_day_m3 = sales_by_month_day[sales_by_month_day['MONTH'] == 3]\n",
        "\n",
        "ax.fill_between(sales_by_month_day_m1['DAY'], sales_by_month_day_m1['VALUE'], alpha=0.5, label='M1',color=\"violet\")\n",
        "ax.fill_between(sales_by_month_day_m2['DAY'], sales_by_month_day_m2['VALUE'], alpha=0.5, label='M2',color=\"lightpink\")\n",
        "ax.fill_between(sales_by_month_day_m3['DAY'], sales_by_month_day_m3['VALUE'], alpha=0.5, label='M3',color=\"skyblue\")\n",
        "ax.set_xlabel('Day')\n",
        "ax.set_ylabel('Total Sales')\n",
        "ax.set_title('Total Sales by Month and Day')\n",
        "ax.legend()\n",
        "ax.grid(True,color='whitesmoke')\n",
        "plt.tight_layout()\n",
        "plt.show()"
      ],
      "metadata": {
        "execution": {
          "iopub.status.busy": "2024-04-05T09:57:28.159654Z",
          "iopub.execute_input": "2024-04-05T09:57:28.160111Z",
          "iopub.status.idle": "2024-04-05T09:57:28.80648Z",
          "shell.execute_reply.started": "2024-04-05T09:57:28.160075Z",
          "shell.execute_reply": "2024-04-05T09:57:28.805215Z"
        },
        "trusted": true,
        "id": "rSpNkzp0NALm"
      },
      "execution_count": null,
      "outputs": []
    },
    {
      "cell_type": "markdown",
      "source": [
        "***d. Total number of products sold over 3 months***"
      ],
      "metadata": {
        "id": "f700dR7cNALm"
      }
    },
    {
      "cell_type": "code",
      "source": [
        "total_products_per_store= dataset.groupby('STORECODE')['QTY'].sum().sort_values(ascending=False).reset_index()"
      ],
      "metadata": {
        "execution": {
          "iopub.status.busy": "2024-04-05T09:57:31.321374Z",
          "iopub.execute_input": "2024-04-05T09:57:31.322089Z",
          "iopub.status.idle": "2024-04-05T09:57:31.331541Z",
          "shell.execute_reply.started": "2024-04-05T09:57:31.32205Z",
          "shell.execute_reply": "2024-04-05T09:57:31.330125Z"
        },
        "trusted": true,
        "id": "O1DsqjLMNALm"
      },
      "execution_count": null,
      "outputs": []
    },
    {
      "cell_type": "code",
      "source": [
        "sns.barplot( x='STORECODE', y='QTY',data=total_products_per_store, palette = \"mako\")\n",
        "plt.title('Total Product sold per Store')\n",
        "plt.xlabel('Store Code')\n",
        "plt.ylabel('Total Products')\n",
        "plt.grid(axis='y')\n",
        "plt.show()"
      ],
      "metadata": {
        "execution": {
          "iopub.status.busy": "2024-04-05T09:57:33.378154Z",
          "iopub.execute_input": "2024-04-05T09:57:33.378896Z",
          "iopub.status.idle": "2024-04-05T09:57:33.685114Z",
          "shell.execute_reply.started": "2024-04-05T09:57:33.378857Z",
          "shell.execute_reply": "2024-04-05T09:57:33.684202Z"
        },
        "trusted": true,
        "id": "rMYAO40JNALn"
      },
      "execution_count": null,
      "outputs": []
    },
    {
      "cell_type": "markdown",
      "source": [
        "***e. Sales Vs Number of Products Sold on each store***"
      ],
      "metadata": {
        "id": "tZYE5L0ANALn"
      }
    },
    {
      "cell_type": "code",
      "source": [
        "merged_data = pd.merge(total_products_per_store, sales_per_store, on='STORECODE')\n",
        "merged_data.set_index('STORECODE', inplace=True)\n",
        "merged_data.reset_index(inplace=True)"
      ],
      "metadata": {
        "execution": {
          "iopub.status.busy": "2024-04-05T09:57:40.169535Z",
          "iopub.execute_input": "2024-04-05T09:57:40.170007Z",
          "iopub.status.idle": "2024-04-05T09:57:40.184384Z",
          "shell.execute_reply.started": "2024-04-05T09:57:40.169967Z",
          "shell.execute_reply": "2024-04-05T09:57:40.18289Z"
        },
        "trusted": true,
        "id": "X6SSQDD3NALn"
      },
      "execution_count": null,
      "outputs": []
    },
    {
      "cell_type": "code",
      "source": [
        "plt.figure(figsize=(12, 6))\n",
        "bar_width = 0.35\n",
        "x = range(len(merged_data))\n",
        "bar1 = plt.bar(x, merged_data['QTY'], bar_width, label='Total Products')\n",
        "bar2 = plt.bar(merged_data.index + bar_width, merged_data['VALUE'], bar_width, label='Total Sales', color='red')\n",
        "plt.xlabel('Store')\n",
        "plt.ylabel('Sales')\n",
        "plt.title('Total Number of Products Sold and Total Sales per Store')\n",
        "plt.xticks(x,merged_data['STORECODE'])\n",
        "plt.grid(axis='y')\n",
        "plt.legend()\n",
        "plt.tight_layout()\n",
        "plt.show()"
      ],
      "metadata": {
        "execution": {
          "iopub.status.busy": "2024-04-05T09:57:42.266969Z",
          "iopub.execute_input": "2024-04-05T09:57:42.268099Z",
          "iopub.status.idle": "2024-04-05T09:57:42.667809Z",
          "shell.execute_reply.started": "2024-04-05T09:57:42.268056Z",
          "shell.execute_reply": "2024-04-05T09:57:42.666573Z"
        },
        "trusted": true,
        "id": "6cey-dm2NALn"
      },
      "execution_count": null,
      "outputs": []
    },
    {
      "cell_type": "markdown",
      "source": [
        "***f. Total orders per day***"
      ],
      "metadata": {
        "id": "_ipH7wsDNALn"
      }
    },
    {
      "cell_type": "code",
      "source": [
        "orders_per_store_per_day_per_month = dataset.groupby(['STORECODE', 'MONTH', 'DAY'])['UNIQUE_BILL_ID'].nunique().reset_index(name='Total_Number_of_Orders')"
      ],
      "metadata": {
        "execution": {
          "iopub.status.busy": "2024-04-05T09:57:45.70929Z",
          "iopub.execute_input": "2024-04-05T09:57:45.710202Z",
          "iopub.status.idle": "2024-04-05T09:57:45.726827Z",
          "shell.execute_reply.started": "2024-04-05T09:57:45.710148Z",
          "shell.execute_reply": "2024-04-05T09:57:45.725487Z"
        },
        "trusted": true,
        "id": "KSpaWwLENALn"
      },
      "execution_count": null,
      "outputs": []
    },
    {
      "cell_type": "code",
      "source": [
        "months = dataset['MONTH'].unique()\n",
        "\n",
        "plt.figure(figsize=(12, 6 * len(months)))\n",
        "palettes=['Greens','twilight','twilight_shifted','RdBu']\n",
        "for i, month in enumerate(months, 1):\n",
        "    month_data = dataset[dataset['MONTH'] == month]\n",
        "    day_sales_month = month_data.groupby('DAY')['PRICE'].sum().reset_index()\n",
        "\n",
        "    plt.subplot(len(months), 1, i)\n",
        "    sns.barplot(x='DAY', y='PRICE', data=day_sales_month,palette=palettes[i])\n",
        "    plt.xlabel('Day')\n",
        "    plt.ylabel('Sales')\n",
        "    plt.title(f\"Month {month}: Day-wise Sales\")\n",
        "\n",
        "plt.tight_layout()\n",
        "plt.show()"
      ],
      "metadata": {
        "execution": {
          "iopub.status.busy": "2024-04-05T09:57:47.487472Z",
          "iopub.execute_input": "2024-04-05T09:57:47.487947Z",
          "iopub.status.idle": "2024-04-05T09:57:48.987013Z",
          "shell.execute_reply.started": "2024-04-05T09:57:47.487908Z",
          "shell.execute_reply": "2024-04-05T09:57:48.98585Z"
        },
        "trusted": true,
        "id": "GPwtyGZRNALo"
      },
      "execution_count": null,
      "outputs": []
    },
    {
      "cell_type": "markdown",
      "source": [
        "**g. The most bought product**"
      ],
      "metadata": {
        "id": "TVCbD79ANALo"
      }
    },
    {
      "cell_type": "code",
      "source": [
        "most_bought_product = dataset['GRP'].value_counts().idxmax()\n",
        "frequency = dataset['GRP'].value_counts().max()\n",
        "\n",
        "print(f\"The most bought product is '{most_bought_product}' with a frequency of {frequency}.\")"
      ],
      "metadata": {
        "execution": {
          "iopub.status.busy": "2024-04-05T09:57:50.930169Z",
          "iopub.execute_input": "2024-04-05T09:57:50.930609Z",
          "iopub.status.idle": "2024-04-05T09:57:50.944247Z",
          "shell.execute_reply.started": "2024-04-05T09:57:50.930578Z",
          "shell.execute_reply": "2024-04-05T09:57:50.942611Z"
        },
        "trusted": true,
        "id": "nNvNZNeSNALo"
      },
      "execution_count": null,
      "outputs": []
    },
    {
      "cell_type": "code",
      "source": [
        "unique_grp_count = dataset['GRP'].nunique()\n",
        "print(\"Unique GRP count:\", unique_grp_count)"
      ],
      "metadata": {
        "execution": {
          "iopub.status.busy": "2024-04-05T09:57:58.839695Z",
          "iopub.execute_input": "2024-04-05T09:57:58.840254Z",
          "iopub.status.idle": "2024-04-05T09:57:58.848411Z",
          "shell.execute_reply.started": "2024-04-05T09:57:58.840212Z",
          "shell.execute_reply": "2024-04-05T09:57:58.84716Z"
        },
        "trusted": true,
        "id": "SZMz2PGFNALo"
      },
      "execution_count": null,
      "outputs": []
    },
    {
      "cell_type": "markdown",
      "source": [
        " **h. Top 10 Products that Customers most preferred in each store**"
      ],
      "metadata": {
        "id": "SFAiDgp5NALo"
      }
    },
    {
      "cell_type": "code",
      "source": [
        "stores = dataset['STORECODE'].unique()\n",
        "\n",
        "plt.figure(figsize=(12, 5 * len(stores)))\n",
        "palettes = ['hls', 'RdPu', 'Blues', 'Greens']\n",
        "\n",
        "for i, store in enumerate(stores, 1):\n",
        "    store_data = dataset[dataset['STORECODE'] == store]\n",
        "    most_bought_product_in_each_store = store_data.groupby(['STORECODE', 'GRP'])['QTY'].sum().sort_values(ascending=False).reset_index()\n",
        "    plt.subplot(len(stores), 1, i)\n",
        "    sns.barplot(x='QTY', y='GRP', data=most_bought_product_in_each_store[:10], palette='plasma')\n",
        "    plt.grid(axis='x')\n",
        "    plt.xlabel('Units Sold')\n",
        "    plt.ylabel('Product')\n",
        "    plt.title(f\"Store {store}: Top 10 Products Customers preferred\")\n",
        "plt.tight_layout()\n",
        "plt.show()\n"
      ],
      "metadata": {
        "execution": {
          "iopub.status.busy": "2024-04-05T09:58:21.026205Z",
          "iopub.execute_input": "2024-04-05T09:58:21.026888Z",
          "iopub.status.idle": "2024-04-05T09:58:24.091902Z",
          "shell.execute_reply.started": "2024-04-05T09:58:21.026853Z",
          "shell.execute_reply": "2024-04-05T09:58:24.090735Z"
        },
        "trusted": true,
        "id": "Y_KGmhCTNALo"
      },
      "execution_count": null,
      "outputs": []
    },
    {
      "cell_type": "markdown",
      "source": [
        "**i.Top 3 products sold in each store**"
      ],
      "metadata": {
        "id": "z1Do2uACNALo"
      }
    },
    {
      "cell_type": "code",
      "source": [
        "most_bought_product_in_each_store = dataset.groupby(['STORECODE', 'GRP'])['QTY'].sum().sort_values(ascending=False).reset_index()\n",
        "most_bought_product_in_each_store.head()"
      ],
      "metadata": {
        "execution": {
          "iopub.status.busy": "2024-04-05T09:58:40.313926Z",
          "iopub.execute_input": "2024-04-05T09:58:40.31504Z",
          "iopub.status.idle": "2024-04-05T09:58:40.336272Z",
          "shell.execute_reply.started": "2024-04-05T09:58:40.314996Z",
          "shell.execute_reply": "2024-04-05T09:58:40.335099Z"
        },
        "trusted": true,
        "id": "frbIJUIcNALp"
      },
      "execution_count": null,
      "outputs": []
    },
    {
      "cell_type": "code",
      "source": [
        "top_3_products = most_bought_product_in_each_store.groupby(\"STORECODE\").head(3)\n",
        "top_3_products=top_3_products.sort_values(by='STORECODE', ascending=True)"
      ],
      "metadata": {
        "execution": {
          "iopub.status.busy": "2024-04-05T09:58:49.491396Z",
          "iopub.execute_input": "2024-04-05T09:58:49.491859Z",
          "iopub.status.idle": "2024-04-05T09:58:49.499837Z",
          "shell.execute_reply.started": "2024-04-05T09:58:49.491802Z",
          "shell.execute_reply": "2024-04-05T09:58:49.498782Z"
        },
        "trusted": true,
        "id": "QdvK2T6cNALp"
      },
      "execution_count": null,
      "outputs": []
    },
    {
      "cell_type": "code",
      "source": [
        "prd_number=[]\n",
        "prd_to_assign=['P1','P2','P3']\n",
        "for i in range(0,int(len(top_3_products.index)/3)):\n",
        "    prd_number.extend(prd_to_assign)\n",
        "top_3 =top_3_products.copy()\n",
        "top_3['PRD'] = prd_number\n",
        "top_3.head()"
      ],
      "metadata": {
        "execution": {
          "iopub.status.busy": "2024-04-05T09:58:51.082157Z",
          "iopub.execute_input": "2024-04-05T09:58:51.083023Z",
          "iopub.status.idle": "2024-04-05T09:58:51.097958Z",
          "shell.execute_reply.started": "2024-04-05T09:58:51.082976Z",
          "shell.execute_reply": "2024-04-05T09:58:51.096672Z"
        },
        "trusted": true,
        "id": "6sIe_N33NALp"
      },
      "execution_count": null,
      "outputs": []
    },
    {
      "cell_type": "code",
      "source": [
        "top_3_products_in_each_store=[]\n",
        "top_3_products_in_each_store = top_3['GRP'].tolist()"
      ],
      "metadata": {
        "execution": {
          "iopub.status.busy": "2024-04-05T09:58:53.800839Z",
          "iopub.execute_input": "2024-04-05T09:58:53.801305Z",
          "iopub.status.idle": "2024-04-05T09:58:53.806969Z",
          "shell.execute_reply.started": "2024-04-05T09:58:53.801274Z",
          "shell.execute_reply": "2024-04-05T09:58:53.805465Z"
        },
        "trusted": true,
        "id": "CrxLvMmtNALp"
      },
      "execution_count": null,
      "outputs": []
    },
    {
      "cell_type": "code",
      "source": [
        "catplot = sns.catplot(x='STORECODE', y='QTY', hue='PRD', data=top_3, kind='bar', height=6, aspect=2,palette='YlGnBu')\n",
        "ax1 = catplot.ax\n",
        "annotations = top_3_products_in_each_store\n",
        "for i, bar in enumerate(ax1.patches):\n",
        "    x_coord = bar.get_x() + bar.get_width() / 2\n",
        "    y_coord = bar.get_height() + 5\n",
        "    annotation_text = annotations[i]\n",
        "    ax1.text(x_coord,y_coord, annotation_text,rotation=90,fontsize=9, ha='left', va='bottom')\n",
        "ax1.set_xlabel('Storecode', fontsize=12)\n",
        "ax1.set_ylabel('product Units sold', fontsize=12)\n",
        "legend = catplot._legend\n",
        "legend.set_title('PRD')\n",
        "legend.get_title().set_fontsize(12)\n",
        "plt.xticks(fontsize=12)\n",
        "plt.yticks(fontsize=12)\n",
        "plt.grid(axis='y')\n",
        "plt.gcf().set_size_inches(10, 10)\n",
        "plt.show()"
      ],
      "metadata": {
        "execution": {
          "iopub.status.busy": "2024-04-05T09:58:55.57906Z",
          "iopub.execute_input": "2024-04-05T09:58:55.580377Z",
          "iopub.status.idle": "2024-04-05T09:58:56.291125Z",
          "shell.execute_reply.started": "2024-04-05T09:58:55.580311Z",
          "shell.execute_reply": "2024-04-05T09:58:56.28981Z"
        },
        "trusted": true,
        "id": "5a3r7ppkNALq"
      },
      "execution_count": null,
      "outputs": []
    },
    {
      "cell_type": "code",
      "source": [
        "top_grp_N1 = top_3_products[top_3_products['STORECODE'] == 1]['GRP'].iloc[0]\n",
        "print(f\"Top GRP for store N1: {top_grp_N1}\")"
      ],
      "metadata": {
        "execution": {
          "iopub.status.busy": "2024-04-05T09:58:59.137261Z",
          "iopub.execute_input": "2024-04-05T09:58:59.137726Z",
          "iopub.status.idle": "2024-04-05T09:58:59.145623Z",
          "shell.execute_reply.started": "2024-04-05T09:58:59.137691Z",
          "shell.execute_reply": "2024-04-05T09:58:59.14428Z"
        },
        "trusted": true,
        "id": "c5uL0UAiNALq"
      },
      "execution_count": null,
      "outputs": []
    },
    {
      "cell_type": "markdown",
      "source": [
        "# Univariate Analysis"
      ],
      "metadata": {
        "id": "TeUypSFoNALq"
      }
    },
    {
      "cell_type": "code",
      "source": [
        "for col in numerical_variables:\n",
        "    print(col)\n",
        "    print('Skew :', round(dataset[col].skew(), 2))\n",
        "    plt.figure(figsize = (10, 4))\n",
        "    plt.subplot(1, 2, 1)\n",
        "    data[col].hist(grid=True,color='purple')\n",
        "    plt.ylabel('count')\n",
        "    plt.title('Histogram of ' + col)\n",
        "    plt.subplot(1, 2, 2)\n",
        "    sns.boxplot(x=dataset[col],color='deeppink')\n",
        "    plt.title('Boxplot of ' + col)\n",
        "    plt.show()"
      ],
      "metadata": {
        "execution": {
          "iopub.status.busy": "2024-04-05T09:59:00.816102Z",
          "iopub.execute_input": "2024-04-05T09:59:00.816532Z",
          "iopub.status.idle": "2024-04-05T09:59:03.050791Z",
          "shell.execute_reply.started": "2024-04-05T09:59:00.816502Z",
          "shell.execute_reply": "2024-04-05T09:59:03.049717Z"
        },
        "trusted": true,
        "id": "4ArZZr9FNALq"
      },
      "execution_count": null,
      "outputs": []
    },
    {
      "cell_type": "code",
      "source": [
        "dataset[categorial_variables].sample(1)"
      ],
      "metadata": {
        "execution": {
          "iopub.status.busy": "2024-04-05T09:59:06.389683Z",
          "iopub.execute_input": "2024-04-05T09:59:06.390533Z",
          "iopub.status.idle": "2024-04-05T09:59:06.410081Z",
          "shell.execute_reply.started": "2024-04-05T09:59:06.390494Z",
          "shell.execute_reply": "2024-04-05T09:59:06.408714Z"
        },
        "trusted": true,
        "id": "V0DOovOUNALq"
      },
      "execution_count": null,
      "outputs": []
    },
    {
      "cell_type": "markdown",
      "source": [
        "**Univariate Analysis on Categorical variables**\n",
        "1. Most sold product GRP is Biscuts\n",
        "2. Cream is most bought sub category of products\n",
        "3. The most prefered products by the customers are from Hindustan Uniliver Limited\n",
        "4. The most products are sold by TATA,DAIRY MILK and AMUL"
      ],
      "metadata": {
        "id": "utKb_QItNALq"
      }
    },
    {
      "cell_type": "code",
      "source": [
        "fig, axes = plt.subplots(3, 2, figsize = (18, 18),gridspec_kw={'hspace': 0.9})\n",
        "fig.suptitle('Bar plot for all categorical variables in the dataset')\n",
        "sns.countplot(ax = axes[0, 0], x = 'GRP', data = data, color = 'blue',\n",
        "              order = data['GRP'].head(20).value_counts().index);\n",
        "sns.countplot(ax = axes[0, 1], x = 'SGRP', data = data, color = 'blue',\n",
        "              order = data['SGRP'].head(20).value_counts().index);\n",
        "sns.countplot(ax = axes[1, 0], x = 'SSGRP', data = data, color = 'blue',\n",
        "              order = data['SSGRP'].head(20).value_counts().index);\n",
        "sns.countplot(ax = axes[1, 1], x = 'CMP', data = data, color = 'blue',\n",
        "              order = data['CMP'].head(20).value_counts().index);\n",
        "sns.countplot(ax = axes[2, 0], x = 'MBRD', data = data, color = 'blue',\n",
        "              order = data['MBRD'].head(20).value_counts().index);\n",
        "sns.countplot(ax = axes[2, 1], x = 'BRD', data = data, color = 'blue',\n",
        "              order = data['BRD'].head(20).value_counts().index);\n",
        "for ax in axes.flatten():\n",
        "    ax.tick_params(labelrotation=90)\n",
        "plt.show()\n"
      ],
      "metadata": {
        "execution": {
          "iopub.status.busy": "2024-04-05T09:59:08.329541Z",
          "iopub.execute_input": "2024-04-05T09:59:08.33048Z",
          "iopub.status.idle": "2024-04-05T09:59:10.165284Z",
          "shell.execute_reply.started": "2024-04-05T09:59:08.330435Z",
          "shell.execute_reply": "2024-04-05T09:59:10.163987Z"
        },
        "trusted": true,
        "id": "BO-Htb0ANALr"
      },
      "execution_count": null,
      "outputs": []
    },
    {
      "cell_type": "markdown",
      "source": [
        "# Correlation Analysis"
      ],
      "metadata": {
        "id": "zn9lA7LgNALr"
      }
    },
    {
      "cell_type": "markdown",
      "source": [
        "**Correlation between Numerical features**"
      ],
      "metadata": {
        "id": "b6f2WstYNALr"
      }
    },
    {
      "cell_type": "code",
      "source": [
        "numerical_features = dataset.select_dtypes(include=['float64', 'int64'])\n",
        "correlation_matrix = numerical_features.corr()\n",
        "print(\"Correlation Matrix:\")\n",
        "print(correlation_matrix)"
      ],
      "metadata": {
        "execution": {
          "iopub.status.busy": "2024-04-05T09:59:13.738299Z",
          "iopub.execute_input": "2024-04-05T09:59:13.738745Z",
          "iopub.status.idle": "2024-04-05T09:59:13.7612Z",
          "shell.execute_reply.started": "2024-04-05T09:59:13.738714Z",
          "shell.execute_reply": "2024-04-05T09:59:13.759732Z"
        },
        "trusted": true,
        "id": "tR3xwIRvNALr"
      },
      "execution_count": null,
      "outputs": []
    },
    {
      "cell_type": "code",
      "source": [
        "plt.figure(figsize=(10, 8))\n",
        "sns.heatmap(correlation_matrix, annot=True, cmap='coolwarm', fmt=\".2f\", linewidths=0.5)\n",
        "plt.title('Correlation Matrix')\n",
        "plt.show()"
      ],
      "metadata": {
        "execution": {
          "iopub.status.busy": "2024-04-05T09:59:15.431795Z",
          "iopub.execute_input": "2024-04-05T09:59:15.432287Z",
          "iopub.status.idle": "2024-04-05T09:59:15.890294Z",
          "shell.execute_reply.started": "2024-04-05T09:59:15.432241Z",
          "shell.execute_reply": "2024-04-05T09:59:15.888707Z"
        },
        "trusted": true,
        "id": "YqQ23W6bNALs"
      },
      "execution_count": null,
      "outputs": []
    },
    {
      "cell_type": "markdown",
      "source": [
        "**Correlation between Categorical features**"
      ],
      "metadata": {
        "id": "5Gku3TcJNALs"
      }
    },
    {
      "cell_type": "code",
      "source": [
        "from scipy.stats import chi2_contingency\n",
        "categorical_features = dataset.select_dtypes(include=['object'])\n",
        "chi2_results = {}\n",
        "for column1 in categorical_features:\n",
        "    for column2 in categorical_features:\n",
        "        if column1 != column2:\n",
        "            contingency_table = pd.crosstab(dataset[column1], dataset[column2])\n",
        "            chi2_stat, p_value, _, _ = chi2_contingency(contingency_table)\n",
        "            chi2_results[(column1, column2)] = {'chi2_stat': chi2_stat, 'p_value': p_value}\n",
        "for key, value in chi2_results.items():\n",
        "   print(f\"Chi-square test between {key}:\")\n",
        "   print(f\"Chi-square statistic: {value['chi2_stat']}\")\n",
        "   print(f\"P-value: {value['p_value']}\")\n",
        "   print()\n"
      ],
      "metadata": {
        "execution": {
          "iopub.status.busy": "2024-04-05T09:59:18.780257Z",
          "iopub.execute_input": "2024-04-05T09:59:18.780705Z",
          "iopub.status.idle": "2024-04-05T09:59:44.920987Z",
          "shell.execute_reply.started": "2024-04-05T09:59:18.780667Z",
          "shell.execute_reply": "2024-04-05T09:59:44.919575Z"
        },
        "trusted": true,
        "id": "nuj2x-3VNALs"
      },
      "execution_count": null,
      "outputs": []
    }
  ]
}